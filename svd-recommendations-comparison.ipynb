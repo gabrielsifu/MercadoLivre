{
 "cells": [
  {
   "cell_type": "markdown",
   "id": "32218430-1243-489f-8c25-e728e10e6517",
   "metadata": {},
   "source": [
    "# Comparing SVD Collaborative Filtering Methods\n",
    "\n",
    "- Method 1: using cosine similarity between users reconstructed ratings matrix rows\n",
    "- Method 2: using top residual values from reconstructed ratings matrix\n",
    "- Comparison method: taking 5 random users and checking if domain recommendations are making sense related to their past purchases\n",
    "\n",
    "Lucas A. Oliveira"
   ]
  },
  {
   "cell_type": "markdown",
   "id": "c5bb129c-79ce-4da8-8802-dd1638a2c6ef",
   "metadata": {},
   "source": [
    "---\n",
    "### Setup"
   ]
  },
  {
   "cell_type": "code",
   "execution_count": 119,
   "id": "1ee5420d-2b3f-4f2e-93a5-73b1b4668af6",
   "metadata": {},
   "outputs": [],
   "source": [
    "# Import necessary libraries\n",
    "import string\n",
    "from unidecode import unidecode\n",
    "import pandas as pd\n",
    "import numpy as np\n",
    "from sklearn.model_selection import train_test_split\n",
    "from sklearn.decomposition import PCA, TruncatedSVD\n",
    "from scipy.sparse.linalg import svds\n",
    "from sklearn.preprocessing import StandardScaler\n",
    "from sklearn.metrics.pairwise import cosine_similarity, cosine_distances\n",
    "from sklearn.feature_extraction.text import TfidfVectorizer\n",
    "from sentence_transformers import SentenceTransformer\n",
    "from PIL import Image\n",
    "import matplotlib.pyplot as plt\n",
    "import seaborn as sns\n",
    "import os\n",
    "from IPython.display import display\n",
    "import session_info"
   ]
  },
  {
   "cell_type": "code",
   "execution_count": 120,
   "id": "a7e46de7-0f55-4a11-a79a-82727b66e82b",
   "metadata": {},
   "outputs": [
    {
     "name": "stdout",
     "output_type": "stream",
     "text": [
      "-----\n",
      "PIL                         11.0.0\n",
      "matplotlib                  3.9.2\n",
      "numpy                       1.26.4\n",
      "pandas                      2.2.3\n",
      "scipy                       1.14.1\n",
      "seaborn                     0.13.2\n",
      "sentence_transformers       3.3.0\n",
      "session_info                1.0.0\n",
      "sklearn                     1.5.2\n",
      "unidecode                   NA\n",
      "-----\n",
      "IPython             8.28.0\n",
      "jupyter_client      8.6.3\n",
      "jupyter_core        5.7.2\n",
      "jupyterlab          4.2.5\n",
      "notebook            7.2.2\n",
      "-----\n",
      "Python 3.12.6 (main, Sep  6 2024, 19:03:47) [Clang 15.0.0 (clang-1500.3.9.4)]\n",
      "macOS-14.6.1-x86_64-i386-64bit\n",
      "-----\n",
      "Session information updated at 2024-11-13 11:02\n"
     ]
    }
   ],
   "source": [
    "# Display session information\n",
    "session_info.show(html=False)"
   ]
  },
  {
   "cell_type": "markdown",
   "id": "9f64fbed-f142-4da4-8989-a4d4865f2bfa",
   "metadata": {},
   "source": [
    "---\n",
    "### Load and Process Data"
   ]
  },
  {
   "cell_type": "code",
   "execution_count": 3,
   "id": "854a2cb9-9e24-435f-9770-20b0e160bcd1",
   "metadata": {},
   "outputs": [],
   "source": [
    "# Load the dataset\n",
    "sample_items_meli = pd.read_csv('sample_items_meli.csv')"
   ]
  },
  {
   "cell_type": "code",
   "execution_count": 4,
   "id": "4573f2e2-a173-41c5-a99c-e82a38568918",
   "metadata": {},
   "outputs": [],
   "source": [
    "# Calculate the number of distinct categories\n",
    "categorias_distintas = len(set(sample_items_meli['ITE_ITEM_DOM_DOMAIN_ID']))"
   ]
  },
  {
   "cell_type": "code",
   "execution_count": 5,
   "id": "16d4241f-6578-4514-bbe7-ce91c6d87b63",
   "metadata": {},
   "outputs": [],
   "source": [
    "# Remove domains with few orders using cumulative sum (threshold = 55%)\n",
    "domain_vc = sample_items_meli.ITE_ITEM_DOM_DOMAIN_ID.value_counts().reset_index()\n",
    "domain_vc.loc[:, \"cum_sum\"] = domain_vc.loc[:, \"count\"].cumsum()\n",
    "domain_vc[\"%_acum\"] = domain_vc.loc[:, \"cum_sum\"] / domain_vc.loc[:, \"count\"].sum()\n",
    "domains_to_keep = domain_vc[domain_vc[\"%_acum\"] <= 0.55][\"ITE_ITEM_DOM_DOMAIN_ID\"].values\n",
    "sample_items_meli_mod = sample_items_meli[sample_items_meli.ITE_ITEM_DOM_DOMAIN_ID.isin(domains_to_keep)].reset_index(drop=True)"
   ]
  },
  {
   "cell_type": "code",
   "execution_count": 6,
   "id": "316b3fa0-7fca-4bbf-a5e5-0660e3f7660c",
   "metadata": {},
   "outputs": [],
   "source": [
    "# Remove duplicate items from the dataset\n",
    "sample_items_meli_mod = sample_items_meli_mod.drop_duplicates(subset='item_id')"
   ]
  },
  {
   "cell_type": "markdown",
   "id": "a1552dd3-55f5-49a9-9ca5-8928a2fea811",
   "metadata": {},
   "source": [
    "---\n",
    "### Analysis"
   ]
  },
  {
   "cell_type": "code",
   "execution_count": 7,
   "id": "5dd3295d-e4fd-4dd1-8e39-8577a73ee050",
   "metadata": {},
   "outputs": [],
   "source": [
    "# Creating user ratings matrix\n",
    "df_user_domain = sample_items_meli_mod.pivot_table(\n",
    "    index='buyer_ID',\n",
    "    columns='ITE_ITEM_DOM_DOMAIN_ID',\n",
    "    aggfunc='size',\n",
    "    fill_value=0\n",
    ")"
   ]
  },
  {
   "cell_type": "code",
   "execution_count": 8,
   "id": "b9538b23-77e6-445c-aa21-1e59442d4d4a",
   "metadata": {},
   "outputs": [
    {
     "data": {
      "text/html": [
       "<div>\n",
       "<style scoped>\n",
       "    .dataframe tbody tr th:only-of-type {\n",
       "        vertical-align: middle;\n",
       "    }\n",
       "\n",
       "    .dataframe tbody tr th {\n",
       "        vertical-align: top;\n",
       "    }\n",
       "\n",
       "    .dataframe thead th {\n",
       "        text-align: right;\n",
       "    }\n",
       "</style>\n",
       "<table border=\"1\" class=\"dataframe\">\n",
       "  <thead>\n",
       "    <tr style=\"text-align: right;\">\n",
       "      <th>ITE_ITEM_DOM_DOMAIN_ID</th>\n",
       "      <th>MLB-BACKPACKS</th>\n",
       "      <th>MLB-BICYCLES</th>\n",
       "      <th>MLB-BLOOD_GLUCOSE_METERS</th>\n",
       "      <th>MLB-BLOUSES</th>\n",
       "      <th>MLB-BODY_SHAPERS</th>\n",
       "      <th>MLB-BODY_SKIN_CARE_PRODUCTS</th>\n",
       "      <th>MLB-BOOTS_AND_BOOTIES</th>\n",
       "      <th>MLB-BRAS</th>\n",
       "      <th>MLB-CHARMS</th>\n",
       "      <th>MLB-DISHWASHING_DETERGENTS</th>\n",
       "      <th>...</th>\n",
       "      <th>MLB-SUPPLEMENTS</th>\n",
       "      <th>MLB-SWEATSHIRTS_AND_HOODIES</th>\n",
       "      <th>MLB-SWIMWEAR</th>\n",
       "      <th>MLB-THERMOSES</th>\n",
       "      <th>MLB-T_SHIRTS</th>\n",
       "      <th>MLB-UNDERPANTS</th>\n",
       "      <th>MLB-VINYL_ROLLS_AND_SHEETS</th>\n",
       "      <th>MLB-WALL_AND_CEILING_LIGHTS</th>\n",
       "      <th>MLB-WATER_HOSES</th>\n",
       "      <th>MLB-WRISTWATCHES</th>\n",
       "    </tr>\n",
       "    <tr>\n",
       "      <th>buyer_ID</th>\n",
       "      <th></th>\n",
       "      <th></th>\n",
       "      <th></th>\n",
       "      <th></th>\n",
       "      <th></th>\n",
       "      <th></th>\n",
       "      <th></th>\n",
       "      <th></th>\n",
       "      <th></th>\n",
       "      <th></th>\n",
       "      <th></th>\n",
       "      <th></th>\n",
       "      <th></th>\n",
       "      <th></th>\n",
       "      <th></th>\n",
       "      <th></th>\n",
       "      <th></th>\n",
       "      <th></th>\n",
       "      <th></th>\n",
       "      <th></th>\n",
       "      <th></th>\n",
       "    </tr>\n",
       "  </thead>\n",
       "  <tbody>\n",
       "    <tr>\n",
       "      <th>6</th>\n",
       "      <td>0</td>\n",
       "      <td>0</td>\n",
       "      <td>0</td>\n",
       "      <td>0</td>\n",
       "      <td>0</td>\n",
       "      <td>0</td>\n",
       "      <td>0</td>\n",
       "      <td>0</td>\n",
       "      <td>0</td>\n",
       "      <td>0</td>\n",
       "      <td>...</td>\n",
       "      <td>0</td>\n",
       "      <td>0</td>\n",
       "      <td>0</td>\n",
       "      <td>0</td>\n",
       "      <td>0</td>\n",
       "      <td>0</td>\n",
       "      <td>0</td>\n",
       "      <td>0</td>\n",
       "      <td>1</td>\n",
       "      <td>0</td>\n",
       "    </tr>\n",
       "    <tr>\n",
       "      <th>1375</th>\n",
       "      <td>0</td>\n",
       "      <td>0</td>\n",
       "      <td>0</td>\n",
       "      <td>0</td>\n",
       "      <td>0</td>\n",
       "      <td>0</td>\n",
       "      <td>0</td>\n",
       "      <td>0</td>\n",
       "      <td>0</td>\n",
       "      <td>0</td>\n",
       "      <td>...</td>\n",
       "      <td>0</td>\n",
       "      <td>0</td>\n",
       "      <td>0</td>\n",
       "      <td>0</td>\n",
       "      <td>0</td>\n",
       "      <td>0</td>\n",
       "      <td>0</td>\n",
       "      <td>0</td>\n",
       "      <td>0</td>\n",
       "      <td>0</td>\n",
       "    </tr>\n",
       "    <tr>\n",
       "      <th>1380</th>\n",
       "      <td>0</td>\n",
       "      <td>0</td>\n",
       "      <td>0</td>\n",
       "      <td>0</td>\n",
       "      <td>0</td>\n",
       "      <td>0</td>\n",
       "      <td>0</td>\n",
       "      <td>0</td>\n",
       "      <td>0</td>\n",
       "      <td>0</td>\n",
       "      <td>...</td>\n",
       "      <td>0</td>\n",
       "      <td>0</td>\n",
       "      <td>0</td>\n",
       "      <td>0</td>\n",
       "      <td>0</td>\n",
       "      <td>0</td>\n",
       "      <td>0</td>\n",
       "      <td>1</td>\n",
       "      <td>0</td>\n",
       "      <td>0</td>\n",
       "    </tr>\n",
       "    <tr>\n",
       "      <th>2408</th>\n",
       "      <td>0</td>\n",
       "      <td>0</td>\n",
       "      <td>0</td>\n",
       "      <td>1</td>\n",
       "      <td>1</td>\n",
       "      <td>0</td>\n",
       "      <td>0</td>\n",
       "      <td>1</td>\n",
       "      <td>0</td>\n",
       "      <td>0</td>\n",
       "      <td>...</td>\n",
       "      <td>0</td>\n",
       "      <td>0</td>\n",
       "      <td>0</td>\n",
       "      <td>0</td>\n",
       "      <td>0</td>\n",
       "      <td>0</td>\n",
       "      <td>0</td>\n",
       "      <td>0</td>\n",
       "      <td>0</td>\n",
       "      <td>0</td>\n",
       "    </tr>\n",
       "    <tr>\n",
       "      <th>2593</th>\n",
       "      <td>0</td>\n",
       "      <td>0</td>\n",
       "      <td>0</td>\n",
       "      <td>0</td>\n",
       "      <td>0</td>\n",
       "      <td>0</td>\n",
       "      <td>0</td>\n",
       "      <td>0</td>\n",
       "      <td>0</td>\n",
       "      <td>0</td>\n",
       "      <td>...</td>\n",
       "      <td>0</td>\n",
       "      <td>0</td>\n",
       "      <td>0</td>\n",
       "      <td>0</td>\n",
       "      <td>0</td>\n",
       "      <td>0</td>\n",
       "      <td>0</td>\n",
       "      <td>0</td>\n",
       "      <td>0</td>\n",
       "      <td>0</td>\n",
       "    </tr>\n",
       "  </tbody>\n",
       "</table>\n",
       "<p>5 rows × 54 columns</p>\n",
       "</div>"
      ],
      "text/plain": [
       "ITE_ITEM_DOM_DOMAIN_ID  MLB-BACKPACKS  MLB-BICYCLES  MLB-BLOOD_GLUCOSE_METERS  \\\n",
       "buyer_ID                                                                        \n",
       "6                                   0             0                         0   \n",
       "1375                                0             0                         0   \n",
       "1380                                0             0                         0   \n",
       "2408                                0             0                         0   \n",
       "2593                                0             0                         0   \n",
       "\n",
       "ITE_ITEM_DOM_DOMAIN_ID  MLB-BLOUSES  MLB-BODY_SHAPERS  \\\n",
       "buyer_ID                                                \n",
       "6                                 0                 0   \n",
       "1375                              0                 0   \n",
       "1380                              0                 0   \n",
       "2408                              1                 1   \n",
       "2593                              0                 0   \n",
       "\n",
       "ITE_ITEM_DOM_DOMAIN_ID  MLB-BODY_SKIN_CARE_PRODUCTS  MLB-BOOTS_AND_BOOTIES  \\\n",
       "buyer_ID                                                                     \n",
       "6                                                 0                      0   \n",
       "1375                                              0                      0   \n",
       "1380                                              0                      0   \n",
       "2408                                              0                      0   \n",
       "2593                                              0                      0   \n",
       "\n",
       "ITE_ITEM_DOM_DOMAIN_ID  MLB-BRAS  MLB-CHARMS  MLB-DISHWASHING_DETERGENTS  ...  \\\n",
       "buyer_ID                                                                  ...   \n",
       "6                              0           0                           0  ...   \n",
       "1375                           0           0                           0  ...   \n",
       "1380                           0           0                           0  ...   \n",
       "2408                           1           0                           0  ...   \n",
       "2593                           0           0                           0  ...   \n",
       "\n",
       "ITE_ITEM_DOM_DOMAIN_ID  MLB-SUPPLEMENTS  MLB-SWEATSHIRTS_AND_HOODIES  \\\n",
       "buyer_ID                                                               \n",
       "6                                     0                            0   \n",
       "1375                                  0                            0   \n",
       "1380                                  0                            0   \n",
       "2408                                  0                            0   \n",
       "2593                                  0                            0   \n",
       "\n",
       "ITE_ITEM_DOM_DOMAIN_ID  MLB-SWIMWEAR  MLB-THERMOSES  MLB-T_SHIRTS  \\\n",
       "buyer_ID                                                            \n",
       "6                                  0              0             0   \n",
       "1375                               0              0             0   \n",
       "1380                               0              0             0   \n",
       "2408                               0              0             0   \n",
       "2593                               0              0             0   \n",
       "\n",
       "ITE_ITEM_DOM_DOMAIN_ID  MLB-UNDERPANTS  MLB-VINYL_ROLLS_AND_SHEETS  \\\n",
       "buyer_ID                                                             \n",
       "6                                    0                           0   \n",
       "1375                                 0                           0   \n",
       "1380                                 0                           0   \n",
       "2408                                 0                           0   \n",
       "2593                                 0                           0   \n",
       "\n",
       "ITE_ITEM_DOM_DOMAIN_ID  MLB-WALL_AND_CEILING_LIGHTS  MLB-WATER_HOSES  \\\n",
       "buyer_ID                                                               \n",
       "6                                                 0                1   \n",
       "1375                                              0                0   \n",
       "1380                                              1                0   \n",
       "2408                                              0                0   \n",
       "2593                                              0                0   \n",
       "\n",
       "ITE_ITEM_DOM_DOMAIN_ID  MLB-WRISTWATCHES  \n",
       "buyer_ID                                  \n",
       "6                                      0  \n",
       "1375                                   0  \n",
       "1380                                   0  \n",
       "2408                                   0  \n",
       "2593                                   0  \n",
       "\n",
       "[5 rows x 54 columns]"
      ]
     },
     "execution_count": 8,
     "metadata": {},
     "output_type": "execute_result"
    }
   ],
   "source": [
    "df_user_domain.head()"
   ]
  },
  {
   "cell_type": "markdown",
   "id": "516de536-d85f-4b82-956a-d70e42c0cd3b",
   "metadata": {},
   "source": [
    "#### Method calculating users similarity"
   ]
  },
  {
   "cell_type": "code",
   "execution_count": 9,
   "id": "f8e2e301-f746-4e83-a5dd-bbac32e5aac5",
   "metadata": {},
   "outputs": [],
   "source": [
    "# Perform SVD Decomposition\n",
    "svd = TruncatedSVD(n_components=20, random_state=42)\n",
    "truncated_matrix = svd.fit_transform(df_user_domain)"
   ]
  },
  {
   "cell_type": "code",
   "execution_count": 10,
   "id": "fea25c05-461e-47f7-b238-6263bf70a259",
   "metadata": {},
   "outputs": [],
   "source": [
    "# Função para recomendar categorias baseadas em usuários similares e exibir as categorias já compradas\n",
    "def recomendar_categorias(usuario_id, fatores_usuario, matriz_usuario_categoria, top_n=5):\n",
    "    # Obtém o índice do usuário na matriz\n",
    "    idx_usuario = matriz_usuario_categoria.index.get_loc(usuario_id)\n",
    "    # Obtém o vetor de fatores do usuário\n",
    "    vetor_usuario = fatores_usuario[idx_usuario].reshape(1, -1)\n",
    "    # Calcula a similaridade coseno entre o usuário e todos os outros usuários\n",
    "    similaridades = cosine_similarity(vetor_usuario, fatores_usuario)[0]\n",
    "    # Ordena os usuários pela similaridade (excluindo o próprio usuário)\n",
    "    idx_usuarios_similares = np.argsort(-similaridades)[1:]\n",
    "    usuarios_similares = matriz_usuario_categoria.index[idx_usuarios_similares]\n",
    "    # Soma as categorias compradas pelos usuários similares\n",
    "    categorias = matriz_usuario_categoria.loc[usuarios_similares].sum()\n",
    "    # Remove as categorias que o usuário já comprou\n",
    "    categorias_usuario = matriz_usuario_categoria.loc[usuario_id]\n",
    "    categorias_recomendar = categorias[categorias_usuario == 0]\n",
    "    # Recomenda as top_n categorias\n",
    "    categorias_recomendadas = categorias_recomendar.sort_values(ascending=False).head(top_n).index.tolist()\n",
    "    \n",
    "    # Filtra as categorias já compradas pelo usuário\n",
    "    categorias_ja_compradas = categorias_usuario[categorias_usuario > 0].index.tolist()\n",
    "    \n",
    "    return categorias_recomendadas, categorias_ja_compradas"
   ]
  },
  {
   "cell_type": "code",
   "execution_count": 11,
   "id": "fb3f6337-1588-4500-8e67-8d385bf614cf",
   "metadata": {},
   "outputs": [
    {
     "name": "stdout",
     "output_type": "stream",
     "text": [
      "Categorias já compradas pelo usuário 6:\n",
      " ['MLB-WATER_HOSES']\n",
      "Categorias recomendadas para o usuário 6:\n",
      " ['MLB-SUPPLEMENTS', 'MLB-SNEAKERS', 'MLB-SANDALS_AND_CLOGS', 'MLB-HAIR_TREATMENTS', 'MLB-PANTS']\n"
     ]
    }
   ],
   "source": [
    "user_id = df_user_domain.index[0]\n",
    "categorias_recomendadas, categorias_ja_compradas = recomendar_categorias(user_id, truncated_matrix, df_user_domain)\n",
    "\n",
    "print(f\"Categorias já compradas pelo usuário {user_id}:\\n\", categorias_ja_compradas)\n",
    "print(f\"Categorias recomendadas para o usuário {user_id}:\\n\", categorias_recomendadas)"
   ]
  },
  {
   "cell_type": "code",
   "execution_count": 12,
   "id": "14e83148-1e71-4954-b5cf-d2bf340fa46e",
   "metadata": {},
   "outputs": [
    {
     "name": "stdout",
     "output_type": "stream",
     "text": [
      "Categorias já compradas pelo usuário 1375:\n",
      " ['MLB-SANDALS_AND_CLOGS']\n",
      "Categorias recomendadas para o usuário 1375:\n",
      " ['MLB-SUPPLEMENTS', 'MLB-SNEAKERS', 'MLB-HAIR_TREATMENTS', 'MLB-PANTS', 'MLB-T_SHIRTS']\n"
     ]
    }
   ],
   "source": [
    "user_id = df_user_domain.index[1]\n",
    "categorias_recomendadas, categorias_ja_compradas = recomendar_categorias(user_id, truncated_matrix, df_user_domain)\n",
    "\n",
    "print(f\"Categorias já compradas pelo usuário {user_id}:\\n\", categorias_ja_compradas)\n",
    "print(f\"Categorias recomendadas para o usuário {user_id}:\\n\", categorias_recomendadas)"
   ]
  },
  {
   "cell_type": "code",
   "execution_count": 13,
   "id": "bb9b4ec4-8444-47a7-aa3f-dfb15329230c",
   "metadata": {},
   "outputs": [
    {
     "name": "stdout",
     "output_type": "stream",
     "text": [
      "Categorias já compradas pelo usuário 1380:\n",
      " ['MLB-WALL_AND_CEILING_LIGHTS']\n",
      "Categorias recomendadas para o usuário 1380:\n",
      " ['MLB-SUPPLEMENTS', 'MLB-SNEAKERS', 'MLB-SANDALS_AND_CLOGS', 'MLB-HAIR_TREATMENTS', 'MLB-PANTS']\n"
     ]
    }
   ],
   "source": [
    "user_id = df_user_domain.index[2]\n",
    "categorias_recomendadas, categorias_ja_compradas = recomendar_categorias(user_id, truncated_matrix, df_user_domain)\n",
    "\n",
    "print(f\"Categorias já compradas pelo usuário {user_id}:\\n\", categorias_ja_compradas)\n",
    "print(f\"Categorias recomendadas para o usuário {user_id}:\\n\", categorias_recomendadas)"
   ]
  },
  {
   "cell_type": "code",
   "execution_count": 14,
   "id": "c5658c2e-d02a-4c79-984a-86d0136b175b",
   "metadata": {},
   "outputs": [
    {
     "name": "stdout",
     "output_type": "stream",
     "text": [
      "Categorias já compradas pelo usuário 2408:\n",
      " ['MLB-BLOUSES', 'MLB-BODY_SHAPERS', 'MLB-BRAS', 'MLB-SHORTS']\n",
      "Categorias recomendadas para o usuário 2408:\n",
      " ['MLB-SUPPLEMENTS', 'MLB-SNEAKERS', 'MLB-SANDALS_AND_CLOGS', 'MLB-HAIR_TREATMENTS', 'MLB-PANTS']\n"
     ]
    }
   ],
   "source": [
    "user_id = df_user_domain.index[3]\n",
    "categorias_recomendadas, categorias_ja_compradas = recomendar_categorias(user_id, truncated_matrix, df_user_domain)\n",
    "\n",
    "print(f\"Categorias já compradas pelo usuário {user_id}:\\n\", categorias_ja_compradas)\n",
    "print(f\"Categorias recomendadas para o usuário {user_id}:\\n\", categorias_recomendadas)"
   ]
  },
  {
   "cell_type": "code",
   "execution_count": 15,
   "id": "80238553-b7e4-4f47-93b2-7c9c39056610",
   "metadata": {},
   "outputs": [
    {
     "name": "stdout",
     "output_type": "stream",
     "text": [
      "Categorias já compradas pelo usuário 2593:\n",
      " ['MLB-ELECTRIC_OIL_DIFFUSERS_HUMIDIFIERS_AND_VAPORIZERS']\n",
      "Categorias recomendadas para o usuário 2593:\n",
      " ['MLB-SUPPLEMENTS', 'MLB-SNEAKERS', 'MLB-SANDALS_AND_CLOGS', 'MLB-HAIR_TREATMENTS', 'MLB-PANTS']\n"
     ]
    }
   ],
   "source": [
    "user_id = df_user_domain.index[4]\n",
    "categorias_recomendadas, categorias_ja_compradas = recomendar_categorias(user_id, truncated_matrix, df_user_domain)\n",
    "\n",
    "print(f\"Categorias já compradas pelo usuário {user_id}:\\n\", categorias_ja_compradas)\n",
    "print(f\"Categorias recomendadas para o usuário {user_id}:\\n\", categorias_recomendadas)"
   ]
  },
  {
   "cell_type": "markdown",
   "id": "ef3f0786-e255-4569-b421-f6f50ce4f4fc",
   "metadata": {},
   "source": [
    "#### Method using matrix reconstruction from SVD Decomposition"
   ]
  },
  {
   "cell_type": "code",
   "execution_count": 16,
   "id": "5aef3d5b-5974-4bd3-9e4c-811e8e11020b",
   "metadata": {},
   "outputs": [],
   "source": [
    "matrix_user_domain = df_user_domain.values\n",
    "user_ratings_mean = np.mean(matrix_user_domain, axis = 1)\n",
    "matrix_user_domain_demeaned = matrix_user_domain - user_ratings_mean.reshape(-1, 1)"
   ]
  },
  {
   "cell_type": "code",
   "execution_count": 18,
   "id": "12e04523-db0b-48ea-81ca-9e900a7976c4",
   "metadata": {},
   "outputs": [],
   "source": [
    "# get SVD decompostion using only the top k singular values\n",
    "U, sigma, Vt = svds(matrix_user_domain_demeaned, k = 20)\n",
    "# Regenerate ratings martix using multiplication to get predictions\n",
    "sigma = np.diag(sigma)\n",
    "all_user_predicted_ratings = np.dot(np.dot(U, sigma), Vt) + user_ratings_mean.reshape(-1, 1)\n",
    "preds_df = pd.DataFrame(all_user_predicted_ratings, columns = df_user_domain.columns)"
   ]
  },
  {
   "cell_type": "code",
   "execution_count": 63,
   "id": "002f4b89-0f62-47a3-9056-d2821196c8da",
   "metadata": {},
   "outputs": [],
   "source": [
    "def get_domains_recommendations(user_id, preds_df, sample_items_meli_mod, n_items_per_domain = 3, print_results = True):\n",
    "    \"\"\" \n",
    "    For a given user ID and the reconstructed ratings matrix returns 'n_items_per_domain' items from each\n",
    "    recommended domain to the user\n",
    "\n",
    "    The recommended domains are the ones with big residual values after the rating matrix reconstruction (excluding the\n",
    "    domains which the user already have orders)\n",
    "    \"\"\"\n",
    "    # Get User shop historic\n",
    "    sorted_user_predictions = preds_df.iloc[idx].sort_values(ascending=False)\n",
    "    user_orders = sample_items_meli_mod[sample_items_meli_mod.buyer_ID == (user_id)]\n",
    "    # Get predictions\n",
    "    recommendations = sorted_user_predictions.reset_index()[\"ITE_ITEM_DOM_DOMAIN_ID\"].values\n",
    "    recommendations_list = [rec for rec in recommendations if rec not in user_orders.ITE_ITEM_DOM_DOMAIN_ID.values][:3]\n",
    "    # Display recommendations\n",
    "    if print_results:\n",
    "        print(f\"User ID {user_id} orders:\")\n",
    "        print()\n",
    "        for row in user_orders.iterrows():\n",
    "            print(f\"Item ID: {row[1]['item_id']} - Item Title: {row[1]['ITE_ITEM_TITLE']} - Item Domain: {row[1]['ITE_ITEM_DOM_DOMAIN_ID']}\")\n",
    "        print(\"=\"*120)\n",
    "        print(f\"User ID {user_id} recommendations:\")\n",
    "        print()\n",
    "        for domain in recommendations_list:\n",
    "            print(f\"Items reccomended for domain: {domain}\")\n",
    "            sample_domain = sample_items_meli_mod[sample_items_meli_mod.ITE_ITEM_DOM_DOMAIN_ID==domain].sample(n_items_per_domain, random_state=42).reset_index(drop=True)\n",
    "            for i in range(n_items_per_domain):\n",
    "                print(f\"Item ID: {sample_domain.loc[i, \"item_id\"]} - Title: {sample_domain.loc[i, \"ITE_ITEM_TITLE\"]}\")\n",
    "            print(\"-\"*120)\n",
    "\n",
    "    return user_orders, recommendations_list"
   ]
  },
  {
   "cell_type": "code",
   "execution_count": 24,
   "id": "08a23569-6101-46e9-b42b-3d89cb4b612e",
   "metadata": {},
   "outputs": [
    {
     "name": "stdout",
     "output_type": "stream",
     "text": [
      "User ID 6 orders:\n",
      "\n",
      "Item ID: MLB3367081608 - Item Title: Mangueira Succao Azul 1 Pol - 10 Metros Isal - Item Domain: MLB-WATER_HOSES\n",
      "========================================================================================================================\n",
      "User ID 6 recommendations:\n",
      "\n",
      "Items reccomended for domain: MLB-HAIR_CLIPPERS_ELECTRIC_SHAVERS_AND_HAIR_TRIMMERS\n",
      "Item ID: MLB3480257963 - Title: Kit Maquina Dragão Cabelo Barba E Aparador De Pelo De Nariz\n",
      "Item ID: MLB4819753950 - Title: Maquina Para Depilar Pelos Do Corpo E Íntimos Kemei Km-1910\n",
      "Item ID: MLB4931819342 - Title:  Kemei Km 2293\n",
      "------------------------------------------------------------------------------------------------------------------------\n",
      "Items reccomended for domain: MLB-HAIR_AND_FACE_DYES_AND_BLEACHES\n",
      "Item ID: MLB3614260157 - Title: Oxidante Profissional Yellow Peroxide Yellow 90ml - Escolha\n",
      "Item ID: MLB2897141725 - Title: Máscara Pigmentante Tonalizante Fantasia - Kamaleão Color\n",
      "Item ID: MLB3808768033 - Title:  Tinta Para Barba E Bigode Castanho Escuro Delínea Men 15g\n",
      "------------------------------------------------------------------------------------------------------------------------\n",
      "Items reccomended for domain: MLB-DRINKING_GLASSES\n",
      "Item ID: MLB3826943555 - Title: Jogo 6 Taças Diamond Bico De Jaca Dourado Água Vinho 300ml\n",
      "Item ID: MLB2614280819 - Title: Jogo 6 Taças 300ml Bico De Abacaxi Transparente Casambiente\n",
      "Item ID: MLB4353957746 - Title: Kit 12 Copo Chopp 200ml Taça Tulipa Bar Cerveja Munich Nadir\n",
      "------------------------------------------------------------------------------------------------------------------------\n"
     ]
    }
   ],
   "source": [
    "# Testing domain predictions for user\n",
    "idx = 0\n",
    "user_id = df_user_domain.index.values[idx]\n",
    "_ = get_domains_recommendations(user_id, preds_df, sample_items_meli_mod)"
   ]
  },
  {
   "cell_type": "code",
   "execution_count": 25,
   "id": "168e7b8a-40af-475a-a3be-33b47ed81f04",
   "metadata": {},
   "outputs": [
    {
     "name": "stdout",
     "output_type": "stream",
     "text": [
      "User ID 1375 orders:\n",
      "\n",
      "Item ID: MLB2619201839 - Item Title: Sandália Infantil Feminina Chinelo Flamingo Moda Slide 12.60 - Item Domain: MLB-SANDALS_AND_CLOGS\n",
      "Item ID: MLB4194219408 - Item Title: Sandália Feminina Menina Moda Infantil Plataforma Promoção - Item Domain: MLB-SANDALS_AND_CLOGS\n",
      "========================================================================================================================\n",
      "User ID 1375 recommendations:\n",
      "\n",
      "Items reccomended for domain: MLB-HANDBAGS\n",
      "Item ID: MLB3860920288 - Title: Bolsa Bag Pequena Masculino Couro Tiracolo Transversal Ombro\n",
      "Item ID: MLB1858038528 - Title: Bolsa De Festa Clutch De Cristal Casamento Brilho Cetim \n",
      "Item ID: MLB3669483559 - Title: Bolsa Academia Mala Mão Viagem Transversal Blogueira Grande\n",
      "------------------------------------------------------------------------------------------------------------------------\n",
      "Items reccomended for domain: MLB-SWEATSHIRTS_AND_HOODIES\n",
      "Item ID: MLB4830920316 - Title: Kit 2 Moletom Liso Feminino Blusa De Frio Casual Canguru\n",
      "Item ID: MLB1626696254 - Title: Moletom Liso Masculino Flanelado Blusa De Frio Com Capuz\n",
      "Item ID: MLB875500317 - Title: Moletom Liso Masculino E Feminino Blusa De Frio Canguru\n",
      "------------------------------------------------------------------------------------------------------------------------\n",
      "Items reccomended for domain: MLB-SOCKS\n",
      "Item ID: MLB3632175795 - Title: Kit 6 Meias Lupo Masculinas Cano Médio Atacado Original\n",
      "Item ID: MLB3318897483 - Title: Kit 12 Meia Infantil Escolar Tamanho 2 A 12 Anos Criança\n",
      "Item ID: MLB3780667665 - Title: Meia Meião De Lã Inverno Frio Vovó 3/4 Cano Alto Até  Joelho\n",
      "------------------------------------------------------------------------------------------------------------------------\n"
     ]
    }
   ],
   "source": [
    "# Testing domain predictions for user\n",
    "idx = 1\n",
    "user_id = df_user_domain.index.values[idx]\n",
    "_ = get_domains_recommendations(user_id, preds_df, sample_items_meli_mod)"
   ]
  },
  {
   "cell_type": "code",
   "execution_count": 26,
   "id": "2f5a57c5-5a7b-4271-8dc5-18febea507d5",
   "metadata": {},
   "outputs": [
    {
     "name": "stdout",
     "output_type": "stream",
     "text": [
      "User ID 1380 orders:\n",
      "\n",
      "Item ID: MLB3751098364 - Item Title: Spot Trilho Duplo 2 Sobrepor Direcionável E-27 Branco 110v/220v - Item Domain: MLB-WALL_AND_CEILING_LIGHTS\n",
      "========================================================================================================================\n",
      "User ID 1380 recommendations:\n",
      "\n",
      "Items reccomended for domain: MLB-KITCHEN_SUPPLIES\n",
      "Item ID: MLB1898113848 - Title: Porta Frios Inox 3 Peças Queijo Presunto Com Pinça Brinox\n",
      "Item ID: MLB3048561078 - Title: Registro Botijão P13 P/ P2 /p5 /p8 - Transferidor Passa Gás \n",
      "Item ID: MLB3813976564 - Title: Suporte De Vassoura Montado Na Parede C/ Gancho P/ Organizar\n",
      "------------------------------------------------------------------------------------------------------------------------\n",
      "Items reccomended for domain: MLB-HOME_OFFICE_DESKS\n",
      "Item ID: MLB3640843539 - Title: Mesa Em L Industrial Escrivaninha De Canto Nórdico Vintage Ferro E Madeira Laminada Com Preto E-led Meslmagn\n",
      "Item ID: MLB3712565220 - Title: Mesa Em L P/ Escritório Diretor Estilo Industrrial 150x150\n",
      "Item ID: MLB4138066348 - Title: Escrivaninha Mesa Apoio Lacamel Industrial Pés Preta Tampo Cor Marrom\n",
      "------------------------------------------------------------------------------------------------------------------------\n",
      "Items reccomended for domain: MLB-WATER_HOSES\n",
      "Item ID: MLB3699690059 - Title: Mangueira Plástica 1/2' Para Irrigação S/ Furos - Kit 400m\n",
      "Item ID: MLB3517043407 - Title: Mangueira De Jardim 25m Metros Reforçada Trançada Não Dobra\n",
      "Item ID: MLB4202725364 - Title: Mangueira De Jardim 50 Metros Trançada Não Dobra Reforçada\n",
      "------------------------------------------------------------------------------------------------------------------------\n"
     ]
    }
   ],
   "source": [
    "# Testing domain predictions for user\n",
    "idx = 2\n",
    "user_id = df_user_domain.index.values[idx]\n",
    "_ = get_domains_recommendations(user_id, preds_df, sample_items_meli_mod)"
   ]
  },
  {
   "cell_type": "code",
   "execution_count": 27,
   "id": "da0d58eb-fc2e-4ea2-a705-cfa21de84666",
   "metadata": {},
   "outputs": [
    {
     "name": "stdout",
     "output_type": "stream",
     "text": [
      "User ID 2408 orders:\n",
      "\n",
      "Item ID: MLB2216734918 - Item Title: Top Bustier Fit Lupo Loba Sutia Faixa Sem Costura 44000 F - Item Domain: MLB-BRAS\n",
      "Item ID: MLB3829274278 - Item Title: Kit 2 Croppeds Blusa Blusinha Feminina Regata Suplex Básica - Item Domain: MLB-BLOUSES\n",
      "Item ID: MLB4512878758 - Item Title: Short Modelador Diminui Cintura Levanta Bumbum Original Lupo - Item Domain: MLB-BODY_SHAPERS\n",
      "Item ID: MLB3925485572 - Item Title: Short Jeans Feminino Meia Coxa Cintura Alta Levanta Bumbum - Item Domain: MLB-SHORTS\n",
      "========================================================================================================================\n",
      "User ID 2408 recommendations:\n",
      "\n",
      "Items reccomended for domain: MLB-SOCKS\n",
      "Item ID: MLB3632175795 - Title: Kit 6 Meias Lupo Masculinas Cano Médio Atacado Original\n",
      "Item ID: MLB3318897483 - Title: Kit 12 Meia Infantil Escolar Tamanho 2 A 12 Anos Criança\n",
      "Item ID: MLB3780667665 - Title: Meia Meião De Lã Inverno Frio Vovó 3/4 Cano Alto Até  Joelho\n",
      "------------------------------------------------------------------------------------------------------------------------\n",
      "Items reccomended for domain: MLB-PANTIES\n",
      "Item ID: MLB2141417916 - Title: Shorts Curto Segunda Pele Cintura Media A Pronta Entrega\n",
      "Item ID: MLB2193385595 - Title: Kit 10 Calcinhas Juvenil Menina Moça Em Algodão Atacado Rev.\n",
      "Item ID: MLB1666613023 - Title: Kit 10 Calcinha Cintura Alta Fio Dental Modeladora Cós Duplo\n",
      "------------------------------------------------------------------------------------------------------------------------\n",
      "Items reccomended for domain: MLB-SHIRTS\n",
      "Item ID: MLB3763943937 - Title: Kit Com 2 Camisas Polo Básicas Masculinas Em Piquet Hering\n",
      "Item ID: MLB3583599835 - Title: Camisete Feminino Blusa Camisete Manga Longa Direto Fábrica \n",
      "Item ID: MLB4423372876 - Title: Camisa Social Masculina Manga Longa Original\n",
      "------------------------------------------------------------------------------------------------------------------------\n"
     ]
    }
   ],
   "source": [
    "# Testing domain predictions for user\n",
    "idx = 3\n",
    "user_id = df_user_domain.index.values[idx]\n",
    "_ = get_domains_recommendations(user_id, preds_df, sample_items_meli_mod)"
   ]
  },
  {
   "cell_type": "code",
   "execution_count": 28,
   "id": "42ca0529-766b-4128-b5a7-99daa1bd4ec7",
   "metadata": {},
   "outputs": [
    {
     "name": "stdout",
     "output_type": "stream",
     "text": [
      "User ID 2593 orders:\n",
      "\n",
      "Item ID: MLB3079601422 - Item Title: Umidificador Ar Portatil Ultrassonico Britania 2,4lts Bivolt - Item Domain: MLB-ELECTRIC_OIL_DIFFUSERS_HUMIDIFIERS_AND_VAPORIZERS\n",
      "========================================================================================================================\n",
      "User ID 2593 recommendations:\n",
      "\n",
      "Items reccomended for domain: MLB-HAIR_CLIPPERS_ELECTRIC_SHAVERS_AND_HAIR_TRIMMERS\n",
      "Item ID: MLB3480257963 - Title: Kit Maquina Dragão Cabelo Barba E Aparador De Pelo De Nariz\n",
      "Item ID: MLB4819753950 - Title: Maquina Para Depilar Pelos Do Corpo E Íntimos Kemei Km-1910\n",
      "Item ID: MLB4931819342 - Title:  Kemei Km 2293\n",
      "------------------------------------------------------------------------------------------------------------------------\n",
      "Items reccomended for domain: MLB-HAIR_AND_FACE_DYES_AND_BLEACHES\n",
      "Item ID: MLB3614260157 - Title: Oxidante Profissional Yellow Peroxide Yellow 90ml - Escolha\n",
      "Item ID: MLB2897141725 - Title: Máscara Pigmentante Tonalizante Fantasia - Kamaleão Color\n",
      "Item ID: MLB3808768033 - Title:  Tinta Para Barba E Bigode Castanho Escuro Delínea Men 15g\n",
      "------------------------------------------------------------------------------------------------------------------------\n",
      "Items reccomended for domain: MLB-DRINKING_GLASSES\n",
      "Item ID: MLB3826943555 - Title: Jogo 6 Taças Diamond Bico De Jaca Dourado Água Vinho 300ml\n",
      "Item ID: MLB2614280819 - Title: Jogo 6 Taças 300ml Bico De Abacaxi Transparente Casambiente\n",
      "Item ID: MLB4353957746 - Title: Kit 12 Copo Chopp 200ml Taça Tulipa Bar Cerveja Munich Nadir\n",
      "------------------------------------------------------------------------------------------------------------------------\n"
     ]
    }
   ],
   "source": [
    "# Testing domain predictions for user\n",
    "idx = 4\n",
    "user_id = df_user_domain.index.values[idx]\n",
    "_ = get_domains_recommendations(user_id, preds_df, sample_items_meli_mod)"
   ]
  },
  {
   "attachments": {
    "5017cfe1-1dfe-4f47-b213-ab9d3b468813.png": {
     "image/png": "[encoded data removed]"
    }
   },
   "cell_type": "markdown",
   "id": "33117b6a-70ee-496c-916b-d4ab9818dfcd",
   "metadata": {},
   "source": [
    "Observações:\n",
    "\n",
    "- Os dois domínios \"MLB-SUPPLEMENTS\" e \"MLB-SNEAKERS\" estão aparecendo em todas recomendações do método de similaridade de cosseno, possivelmente relacionado ao fato de serem os dois domínios mais presentes no dataset\n",
    "- Somente domínios presentes no Top 10 mais presentes estão contidos nas recomendações de similaridade\n",
    "- ![image.png](attachment:5017cfe1-1dfe-4f47-b213-ab9d3b468813.png)\n",
    "- As recomendações utilizando similaridade de cosseno não parecem se alterar com a variação do parâmetro k (número de valores singulares)\n",
    "- Usuários com poucas compras acabam sendo um desafio para recomendar dado que sua linha na matrix de ratings é bastante esparsa\n",
    "- As recomendações do método de resíduo parecem ter mais sentido (não em todos casos testados):\n",
    "    - Para o usuário **1375**, que comprou duas sandálias infantis femininas foram recomendados itens de domínios relacionados a vestimenta/moda\n",
    "    - Para o usuário **2408**, que comprou alguns itens de vestimenta a roupa íntima, foram sugeridos domínios de roupa íntima feminina e outros de vestimenta\n",
    "    - Para o usuário **1380**, que adquiriu um item de decoração de casa, foram sugeridos itens de domínios relacionados a utensílios de cozinha, utensílios de jardinagem e móveis de escritório\n",
    "- Dado isso, seguiremos com o **segundo método**, que parece dar recomendações mais próximas às ordens anteriores do usuários, além de ser possível otimizar as predições variando-se o número de valores singulares"
   ]
  },
  {
   "cell_type": "markdown",
   "id": "a255ac2c-747f-44a4-b189-0f23789e7855",
   "metadata": {},
   "source": [
    "#### Testing different number of singular values to get best recommendations\n",
    "\n",
    "- Select a value **k** and reconstruct rating matrix\n",
    "- Recommend **N** domains for all users\n",
    "- Convert domains names to sentence embeddings\n",
    "- Calculate cosine similarity between purchased domains and recommended domains\n",
    "- Aggregate it for all users\n",
    "- Repeat untill all values **k** are tested\n",
    "- Select the **k** with bigger agg score "
   ]
  },
  {
   "cell_type": "code",
   "execution_count": 29,
   "id": "cb534530-58a9-4051-b5fb-a30fb89fc09b",
   "metadata": {
    "scrolled": true
   },
   "outputs": [],
   "source": [
    "model = SentenceTransformer(\"distiluse-base-multilingual-cased-v1\")"
   ]
  },
  {
   "cell_type": "code",
   "execution_count": 30,
   "id": "f07e6167-23ca-4155-9097-4af9dd2640bd",
   "metadata": {},
   "outputs": [],
   "source": [
    "def clean_domain(text):\n",
    "    # remove MLB- from the beggining\n",
    "    text = text[4:]\n",
    "    # to lower case\n",
    "    text = text.lower()\n",
    "    # remove underscores and replace for \\s\n",
    "    text = text.replace(\"_\", \" \")\n",
    "\n",
    "    return text"
   ]
  },
  {
   "cell_type": "code",
   "execution_count": 51,
   "id": "dce9ace7-7cb8-4c8b-8270-b9834f460808",
   "metadata": {},
   "outputs": [],
   "source": [
    "# process domain ID column text\n",
    "sample_items_meli_mod.loc[:, \"domain_normalized\"] = sample_items_meli_mod.loc[:, \"ITE_ITEM_DOM_DOMAIN_ID\"].apply(clean_domain)\n",
    "# Get unique domain names\n",
    "domain_names = sample_items_meli_mod[[\"ITE_ITEM_DOM_DOMAIN_ID\", \"domain_normalized\"]].drop_duplicates().reset_index(drop=True)\n",
    "# generate embeddings for all domains names\n",
    "embedding = model.encode(domain_names.domain_normalized.tolist())"
   ]
  },
  {
   "cell_type": "code",
   "execution_count": 129,
   "id": "1d12f272-7e9c-4228-bf63-d8daca85d6f3",
   "metadata": {},
   "outputs": [
    {
     "name": "stdout",
     "output_type": "stream",
     "text": [
      ">>> calculating for k = 5...\n",
      ">>> calculating for k = 10...\n",
      ">>> calculating for k = 15...\n",
      ">>> calculating for k = 20...\n",
      ">>> calculating for k = 25...\n",
      ">>> calculating for k = 30...\n",
      ">>> calculating for k = 35...\n",
      ">>> calculating for k = 40...\n",
      ">>> calculating for k = 45...\n",
      ">>> calculating for k = 50...\n"
     ]
    }
   ],
   "source": [
    "# iterate over k's and users\n",
    "k_values = [5, 10, 15, 20, 25, 30, 35, 40, 45, 50]\n",
    "agg_scores = []\n",
    "for k in k_values:\n",
    "    print(f\">>> calculating for k = {k}...\")\n",
    "    similarities = []\n",
    "    # get SVD decompostion using only the top k singular values\n",
    "    U, sigma, Vt = svds(matrix_user_domain_demeaned, k = k)\n",
    "    # Regenerate ratings martix using multiplication to get predictions\n",
    "    sigma = np.diag(sigma)\n",
    "    all_user_predicted_ratings = np.dot(np.dot(U, sigma), Vt) + user_ratings_mean.reshape(-1, 1)\n",
    "    preds_df = pd.DataFrame(all_user_predicted_ratings, columns = df_user_domain.columns)\n",
    "    for idx in range(len(df_user_domain.index.values)):\n",
    "        user_id = df_user_domain.index.values[idx]\n",
    "        # Generate recommendations for user\n",
    "        user_data, rec_list = get_domains_recommendations(user_id, preds_df, sample_items_meli_mod, print_results=False)\n",
    "        # Get list of already purchased domains\n",
    "        purc_list = user_data[\"ITE_ITEM_DOM_DOMAIN_ID\"].to_list()\n",
    "        # Get embeddings for purchased and recommended domains\n",
    "        embs_purc = embeddings[domain_names[\"ITE_ITEM_DOM_DOMAIN_ID\"].isin(purc_list)]\n",
    "        embs_rec = embeddings[domain_names[\"ITE_ITEM_DOM_DOMAIN_ID\"].isin(rec_list)]\n",
    "        # Get max cosine similarity for each purchased domain\n",
    "        cos_sim = list(cosine_similarity(embs_purc, embs_rec).max(axis=1))\n",
    "        similarities.extend(cos_sim)\n",
    "    # Calculate similarities mean and store it\n",
    "    agg_scores.append(np.mean(similarities))"
   ]
  },
  {
   "cell_type": "code",
   "execution_count": 130,
   "id": "30fbf019-9ff3-4caf-9580-7507f2c7c5e2",
   "metadata": {},
   "outputs": [
    {
     "data": {
      "image/png": "[encoded data removed]",
      "text/plain": [
       "<Figure size 640x480 with 1 Axes>"
      ]
     },
     "metadata": {},
     "output_type": "display_data"
    }
   ],
   "source": [
    "# Result analysis\n",
    "results = pd.DataFrame({\"k\": k_values, \"agg_score\": agg_scores})\n",
    "_=sns.lineplot(data=results, x=\"k\", y=\"agg_score\")"
   ]
  },
  {
   "cell_type": "code",
   "execution_count": 132,
   "id": "f0956419-c0a5-4e4f-870c-f0858767b546",
   "metadata": {},
   "outputs": [
    {
     "data": {
      "text/html": [
       "<div>\n",
       "<style scoped>\n",
       "    .dataframe tbody tr th:only-of-type {\n",
       "        vertical-align: middle;\n",
       "    }\n",
       "\n",
       "    .dataframe tbody tr th {\n",
       "        vertical-align: top;\n",
       "    }\n",
       "\n",
       "    .dataframe thead th {\n",
       "        text-align: right;\n",
       "    }\n",
       "</style>\n",
       "<table border=\"1\" class=\"dataframe\">\n",
       "  <thead>\n",
       "    <tr style=\"text-align: right;\">\n",
       "      <th></th>\n",
       "      <th>k</th>\n",
       "      <th>agg_score</th>\n",
       "    </tr>\n",
       "  </thead>\n",
       "  <tbody>\n",
       "    <tr>\n",
       "      <th>3</th>\n",
       "      <td>20</td>\n",
       "      <td>0.508743</td>\n",
       "    </tr>\n",
       "    <tr>\n",
       "      <th>2</th>\n",
       "      <td>15</td>\n",
       "      <td>0.506971</td>\n",
       "    </tr>\n",
       "    <tr>\n",
       "      <th>0</th>\n",
       "      <td>5</td>\n",
       "      <td>0.503796</td>\n",
       "    </tr>\n",
       "    <tr>\n",
       "      <th>7</th>\n",
       "      <td>40</td>\n",
       "      <td>0.502774</td>\n",
       "    </tr>\n",
       "    <tr>\n",
       "      <th>1</th>\n",
       "      <td>10</td>\n",
       "      <td>0.498462</td>\n",
       "    </tr>\n",
       "    <tr>\n",
       "      <th>4</th>\n",
       "      <td>25</td>\n",
       "      <td>0.480186</td>\n",
       "    </tr>\n",
       "    <tr>\n",
       "      <th>6</th>\n",
       "      <td>35</td>\n",
       "      <td>0.479432</td>\n",
       "    </tr>\n",
       "    <tr>\n",
       "      <th>8</th>\n",
       "      <td>45</td>\n",
       "      <td>0.478895</td>\n",
       "    </tr>\n",
       "    <tr>\n",
       "      <th>5</th>\n",
       "      <td>30</td>\n",
       "      <td>0.478080</td>\n",
       "    </tr>\n",
       "    <tr>\n",
       "      <th>9</th>\n",
       "      <td>50</td>\n",
       "      <td>0.473867</td>\n",
       "    </tr>\n",
       "  </tbody>\n",
       "</table>\n",
       "</div>"
      ],
      "text/plain": [
       "    k  agg_score\n",
       "3  20   0.508743\n",
       "2  15   0.506971\n",
       "0   5   0.503796\n",
       "7  40   0.502774\n",
       "1  10   0.498462\n",
       "4  25   0.480186\n",
       "6  35   0.479432\n",
       "8  45   0.478895\n",
       "5  30   0.478080\n",
       "9  50   0.473867"
      ]
     },
     "execution_count": 132,
     "metadata": {},
     "output_type": "execute_result"
    }
   ],
   "source": [
    "results.sort_values(\"agg_score\", ascending=False)"
   ]
  },
  {
   "cell_type": "markdown",
   "id": "8fa00a4d-73b6-43a4-9489-b514c78b8e5d",
   "metadata": {},
   "source": [
    "---\n",
    "\n",
    "## Conclusions\n",
    "\n",
    "- The method using residuals from rating matrix reconstruction is more efficient in giving more customized domains recommendations\n",
    "- The optimal value for **k** is **20**"
   ]
  }
 ],
 "metadata": {
  "kernelspec": {
   "display_name": "Python 3 (ipykernel)",
   "language": "python",
   "name": "python3"
  },
  "language_info": {
   "codemirror_mode": {
    "name": "ipython",
    "version": 3
   },
   "file_extension": ".py",
   "mimetype": "text/x-python",
   "name": "python",
   "nbconvert_exporter": "python",
   "pygments_lexer": "ipython3",
   "version": "3.12.6"
  }
 },
 "nbformat": 4,
 "nbformat_minor": 5
}
